{
  "nbformat": 4,
  "nbformat_minor": 0,
  "metadata": {
    "colab": {
      "provenance": [],
      "include_colab_link": true
    },
    "kernelspec": {
      "name": "python3",
      "display_name": "Python 3"
    },
    "language_info": {
      "name": "python"
    }
  },
  "cells": [
    {
      "cell_type": "markdown",
      "metadata": {
        "id": "view-in-github",
        "colab_type": "text"
      },
      "source": [
        "<a href=\"https://colab.research.google.com/github/nnhuy20130281/Lab_ML_NguyenNgocHuy/blob/main/Lab_5_20130281_NguyenNgocHuy.ipynb\" target=\"_parent\"><img src=\"https://colab.research.google.com/assets/colab-badge.svg\" alt=\"Open In Colab\"/></a>"
      ]
    },
    {
      "cell_type": "markdown",
      "source": [
        "# This lab is to deal with **SVM** to classification tasks and compare its performance with other competitive algorithms. In general, **SVM** is one of the most popular and widely used supervised machine learning algorithms.\n",
        "\n",
        "*   **Deadline: 23:59, 17/03/2023**\n",
        "\n"
      ],
      "metadata": {
        "id": "LMzehe0sy5wr"
      }
    },
    {
      "cell_type": "markdown",
      "source": [
        "# Import libraries"
      ],
      "metadata": {
        "id": "H4nJmxp9zGX4"
      }
    },
    {
      "cell_type": "code",
      "execution_count": 2,
      "metadata": {
        "id": "DoVWQ8AEyc-C",
        "colab": {
          "base_uri": "https://localhost:8080/"
        },
        "outputId": "2e73f4ba-2d4b-4dfe-d7e2-21698ba06bef"
      },
      "outputs": [
        {
          "output_type": "stream",
          "name": "stdout",
          "text": [
            "Drive already mounted at /content/gdrive; to attempt to forcibly remount, call drive.mount(\"/content/gdrive\", force_remount=True).\n",
            "/content/gdrive/MyDrive/Colab Notebooks\n"
          ]
        }
      ],
      "source": [
        "\n",
        "from google.colab import drive\n",
        "import pandas as pd\n",
        "import numpy as np\n",
        "from sklearn import svm\n",
        "from sklearn import datasets\n",
        "import matplotlib.pyplot as plt\n",
        "from sklearn.tree import DecisionTreeClassifier\n",
        "from sklearn.linear_model import LogisticRegression\n",
        "from sklearn.neighbors import KNeighborsClassifier\n",
        "from sklearn.model_selection import train_test_split\n",
        "from sklearn.metrics import accuracy_score \n",
        "from sklearn.metrics import recall_score\n",
        "from sklearn.metrics import f1_score\n",
        "from sklearn.metrics import precision_score\n",
        "from sklearn.metrics import classification_report, confusion_matrix\n",
        "from prettytable import PrettyTable\n",
        "\n",
        "\n",
        "drive.mount('/content/gdrive')\n",
        "%cd '/content/gdrive/MyDrive/Colab Notebooks'\n",
        "\n"
      ]
    },
    {
      "cell_type": "markdown",
      "source": [
        "#Task 1. \n",
        "For breast cancer dataset (https://tinyurl.com/3vme8hr3) which could be loaded from datasets in sklearn as follows:\n",
        "\n",
        "```\n",
        "#Import scikit-learn dataset library\n",
        "from sklearn import datasets\n",
        "\n",
        "#Load dataset\n",
        "cancer = datasets.load_breast_cancer()\n",
        "```\n",
        "\n",
        "*   1.1.\tApply SVM algorithm to above dataset using linear kernel.\n",
        "*   1.2.\tCompare the obtained results with other competitive algorithms (Logistic Regression, Decision Tree, kNN) based on metrics: accuracy, precision, recall, f1 measures.\n",
        "\n"
      ],
      "metadata": {
        "id": "kNv07ARGzOUm"
      }
    },
    {
      "cell_type": "code",
      "source": [
        "#1.1\n",
        "cancer = datasets.load_breast_cancer()\n",
        "model = svm.SVC(kernel ='linear')\n",
        "x = cancer.data\n",
        "y = cancer.target\n",
        "model.fit(x, y)\n",
        "y_pred = model.predict(x)\n",
        "print(confusion_matrix(y, y_pred))\n",
        "print(classification_report(y, y_pred))\n",
        "\n",
        "#1.2\n",
        "lr = LogisticRegression(random_state = 0)\n",
        "lr.fit(x, y)\n",
        "lr_pred = lr.predict(x)\n",
        "\n",
        "tree = DecisionTreeClassifier()\n",
        "tree.fit(x, y)\n",
        "tree_pred = tree.predict(x)\n",
        "\n",
        "\n",
        "kNN = KNeighborsClassifier(n_neighbors=5)\n",
        "kNN.fit(x, y)\n",
        "kNN_pred = kNN.predict(x)\n",
        "\n",
        "\n",
        "table = PrettyTable([\"Algorithm\",\"Accuracy\",\"Precision\", \"Recall\", \"F1\"])\n",
        "table.add_row([\"SVM\", round(accuracy_score(y, y_pred), 2), \n",
        "           round(precision_score(y, y_pred, average='micro'), 2), \n",
        "           round(recall_score(y, y_pred, average='macro'), 2),\n",
        "           round(f1_score(y, y_pred,average='macro'), 2)])\n",
        "table.add_row([\"Logicstic\", round(accuracy_score(y, lr_pred), 2), \n",
        "           round(precision_score(y, lr_pred, average='micro'), 2), \n",
        "           round(recall_score(y, lr_pred, average='macro'), 2),\n",
        "           round(f1_score(y, lr_pred,average='macro'), 2)])\n",
        "table.add_row([\"Decision Tree\", round(accuracy_score(y, tree_pred), 2), \n",
        "           round(precision_score(y, tree_pred, average='micro'), 2), \n",
        "           round(recall_score(y, tree_pred, average='macro'), 2),\n",
        "           round(f1_score(y, tree_pred,average='macro'), 2)])\n",
        "table.add_row([\"kNN\", round(accuracy_score(y, kNN_pred), 2), \n",
        "           round(precision_score(y, kNN_pred, average='micro'), 2), \n",
        "           round(recall_score(y, kNN_pred, average='macro'), 2),\n",
        "           round(f1_score(y, kNN_pred,average='macro'), 2)])\n",
        "print(table)"
      ],
      "metadata": {
        "id": "sOsg77IBzEyo",
        "colab": {
          "base_uri": "https://localhost:8080/"
        },
        "outputId": "c37468c3-6540-47e3-e50f-24f7e2990a7c"
      },
      "execution_count": 5,
      "outputs": [
        {
          "output_type": "stream",
          "name": "stdout",
          "text": [
            "[[201  11]\n",
            " [  8 349]]\n",
            "              precision    recall  f1-score   support\n",
            "\n",
            "           0       0.96      0.95      0.95       212\n",
            "           1       0.97      0.98      0.97       357\n",
            "\n",
            "    accuracy                           0.97       569\n",
            "   macro avg       0.97      0.96      0.96       569\n",
            "weighted avg       0.97      0.97      0.97       569\n",
            "\n",
            "+---------------+----------+-----------+--------+------+\n",
            "|   Algorithm   | Accuracy | Precision | Recall |  F1  |\n",
            "+---------------+----------+-----------+--------+------+\n",
            "|      SVM      |   0.97   |    0.97   |  0.96  | 0.96 |\n",
            "|   Logicstic   |   0.95   |    0.95   |  0.94  | 0.94 |\n",
            "| Decision Tree |   1.0    |    1.0    |  1.0   | 1.0  |\n",
            "|      kNN      |   0.95   |    0.95   |  0.94  | 0.94 |\n",
            "+---------------+----------+-----------+--------+------+\n"
          ]
        },
        {
          "output_type": "stream",
          "name": "stderr",
          "text": [
            "/usr/local/lib/python3.9/dist-packages/sklearn/linear_model/_logistic.py:458: ConvergenceWarning: lbfgs failed to converge (status=1):\n",
            "STOP: TOTAL NO. of ITERATIONS REACHED LIMIT.\n",
            "\n",
            "Increase the number of iterations (max_iter) or scale the data as shown in:\n",
            "    https://scikit-learn.org/stable/modules/preprocessing.html\n",
            "Please also refer to the documentation for alternative solver options:\n",
            "    https://scikit-learn.org/stable/modules/linear_model.html#logistic-regression\n",
            "  n_iter_i = _check_optimize_result(\n"
          ]
        }
      ]
    },
    {
      "cell_type": "markdown",
      "source": [
        "#Task 2. \n",
        "\n",
        "*   1.1.\tPerform SVM algorithm to **Iris dataset** using **linear kernel**.\n",
        "*   1.2.\tCompare the obtained results in 1.1 with SVM using other kernels (**Polynomial Kernel, Gaussian Kernel, Sigmoid Kernel, Radial Basis Function Kernel**). Some metrics could be used: accuracy, precision, recall, f1 measures\n",
        "\n",
        "\n",
        "\n"
      ],
      "metadata": {
        "id": "S43IoUT-0OQq"
      }
    },
    {
      "cell_type": "code",
      "source": [
        "#2.1\n",
        "iris = datasets.load_iris()\n",
        "model = svm.SVC(kernel ='linear')\n",
        "x = cancer.data\n",
        "y = cancer.target\n",
        "model.fit(x, y)\n",
        "y_pred = model.predict(x)\n",
        "\n",
        "#2.2\n",
        "\n",
        "poly = svm.SVC(kernel='poly', degree=5)\n",
        "poly.fit(x, y)\n",
        "\n",
        "sigmoid = svm.SVC(kernel='sigmoid')\n",
        "sigmoid.fit(x, y)\n",
        "\n",
        "rbf = svm.SVC(kernel='rbf')\n",
        "rbf.fit(x, y)\n",
        "\n",
        "poly_pred =poly.predict(x)\n",
        "sigmoid_pred = sigmoid.predict(x)\n",
        "rbf_pred = rbf.predict(x)\n",
        "\n",
        "\n",
        "table = PrettyTable([\"Kernel\",\"Accuracy\",\"Precision\", \"Recall\", \"F1\"])\n",
        "table.add_row([\"Linear\", round(accuracy_score(y, y_pred), 2), \n",
        "           round(precision_score(y, y_pred, average='micro'), 2), \n",
        "           round(recall_score(y, y_pred, average='macro'), 2),\n",
        "           round(f1_score(y, y_pred,average='macro'), 2)])\n",
        "table.add_row([\"Poly\", round(accuracy_score(y, poly_pred), 2), \n",
        "           round(precision_score(y, poly_pred, average='micro'), 2), \n",
        "           round(recall_score(y, poly_pred, average='macro'), 2),\n",
        "           round(f1_score(y, poly_pred,average='macro'), 2)])\n",
        "table.add_row([\"Sigmoid\", round(accuracy_score(y, sigmoid_pred), 2), \n",
        "           round(precision_score(y, sigmoid_pred, average='micro'), 2), \n",
        "           round(recall_score(y, sigmoid_pred, average='macro'), 2),\n",
        "           round(f1_score(y, sigmoid_pred,average='macro'), 2)])\n",
        "table.add_row([\"RBF\", round(accuracy_score(y, rbf_pred), 2), \n",
        "           round(precision_score(y, rbf_pred, average='micro'), 2), \n",
        "           round(recall_score(y, rbf_pred, average='macro'), 2),\n",
        "           round(f1_score(y, rbf_pred,average='macro'), 2)])\n",
        "print(table);"
      ],
      "metadata": {
        "id": "_xhPpF5b033h",
        "colab": {
          "base_uri": "https://localhost:8080/"
        },
        "outputId": "dda97bcd-0340-4715-907b-98a2438302d2"
      },
      "execution_count": 4,
      "outputs": [
        {
          "output_type": "stream",
          "name": "stdout",
          "text": [
            "+---------+----------+-----------+--------+------+\n",
            "|  Kernel | Accuracy | Precision | Recall |  F1  |\n",
            "+---------+----------+-----------+--------+------+\n",
            "|  Linear |   0.97   |    0.97   |  0.96  | 0.96 |\n",
            "|   Poly  |   0.91   |    0.91   |  0.88  | 0.9  |\n",
            "| Sigmoid |   0.44   |    0.44   |  0.39  | 0.38 |\n",
            "|   RBF   |   0.92   |    0.92   |  0.9   | 0.91 |\n",
            "+---------+----------+-----------+--------+------+\n"
          ]
        }
      ]
    },
    {
      "cell_type": "markdown",
      "source": [
        "#Task 3. \n",
        "Compare the performance of selected classification algorithms (Decision Tree, kNN, Logistic Regression) and SVM (using different kernels) with mnist dataset based on accuracy, precision, recall, f1 measures.\n"
      ],
      "metadata": {
        "id": "b52OPWPD2afi"
      }
    },
    {
      "cell_type": "code",
      "source": [
        "model = svm.SVC(kernel ='linear')\n",
        "x = datasets.load_digits().data\n",
        "y = datasets.load_digits().target\n",
        "\n",
        "model.fit(x, y)\n",
        "y_pred = model.predict(x)\n",
        "\n",
        "poly = svm.SVC(kernel='poly', degree=5)\n",
        "poly.fit(x, y_pred)\n",
        "\n",
        "sigmoid = svm.SVC(kernel='sigmoid')\n",
        "sigmoid.fit(x, y)\n",
        "\n",
        "rbf = svm.SVC(kernel='rbf')\n",
        "rbf.fit(x, y)\n",
        "\n",
        "poly_pred =poly.predict(x)\n",
        "sigmoid_pred = sigmoid.predict(x)\n",
        "rbf_pred = rbf.predict(x)\n",
        "\n",
        "lr = LogisticRegression(random_state = 0)\n",
        "lr.fit(x, y)\n",
        "lr_pred = lr.predict(x)\n",
        "\n",
        "tree = DecisionTreeClassifier()\n",
        "tree.fit(x, y)\n",
        "tree_pred = tree.predict(x)\n",
        "\n",
        "\n",
        "kNN = KNeighborsClassifier(n_neighbors=5)\n",
        "kNN.fit(x, y)\n",
        "kNN_pred = kNN.predict(x)\n",
        "\n",
        "table = PrettyTable([\"Algorithm\",\"Accuracy\",\"Precision\", \"Recall\", \"F1\"])\n",
        "table.add_row([\"Logicstic\", round(accuracy_score(y, lr_pred), 2), \n",
        "           round(precision_score(y, lr_pred, average='micro'), 2), \n",
        "           round(recall_score(y, lr_pred, average='macro'), 2),\n",
        "           round(f1_score(y, lr_pred,average='macro'), 2)])\n",
        "table.add_row([\"Decision Tree\", round(accuracy_score(y, tree_pred), 2), \n",
        "           round(precision_score(y, tree_pred, average='micro'), 2), \n",
        "           round(recall_score(y, tree_pred, average='macro'), 2),\n",
        "           round(f1_score(y, tree_pred,average='macro'), 2)])\n",
        "table.add_row([\"kNN\", round(accuracy_score(y, kNN_pred), 2), \n",
        "           round(precision_score(y, kNN_pred, average='micro'), 2), \n",
        "           round(recall_score(y, kNN_pred, average='macro'), 2),\n",
        "           round(f1_score(y, kNN_pred,average='macro'), 2)])\n",
        "table.add_row([\"Linear\", round(accuracy_score(y, y_pred), 2), \n",
        "           round(precision_score(y, y_pred, average='micro'), 2), \n",
        "           round(recall_score(y, y_pred, average='macro'), 2),\n",
        "           round(f1_score(y, y_pred,average='macro'), 2)])\n",
        "table.add_row([\"Poly\", round(accuracy_score(y, poly_pred), 2), \n",
        "           round(precision_score(y, poly_pred, average='micro'), 2), \n",
        "           round(recall_score(y, poly_pred, average='macro'), 2),\n",
        "           round(f1_score(y, poly_pred,average='macro'), 2)])\n",
        "table.add_row([\"Sigmoid\", round(accuracy_score(y, sigmoid_pred), 2), \n",
        "           round(precision_score(y, sigmoid_pred, average='micro'), 2), \n",
        "           round(recall_score(y, sigmoid_pred, average='macro'), 2),\n",
        "           round(f1_score(y, sigmoid_pred,average='macro'), 2)])\n",
        "table.add_row([\"RBF\", round(accuracy_score(y, rbf_pred), 2), \n",
        "           round(precision_score(y, rbf_pred, average='micro'), 2), \n",
        "           round(recall_score(y, rbf_pred, average='macro'), 2),\n",
        "           round(f1_score(y, rbf_pred,average='macro'), 2)])\n",
        "print(table);"
      ],
      "metadata": {
        "colab": {
          "base_uri": "https://localhost:8080/"
        },
        "id": "U0NvnWjFV4tz",
        "outputId": "150cd8f6-9009-44dd-e55f-9f24f39db9da"
      },
      "execution_count": 6,
      "outputs": [
        {
          "output_type": "stream",
          "name": "stderr",
          "text": [
            "/usr/local/lib/python3.9/dist-packages/sklearn/linear_model/_logistic.py:458: ConvergenceWarning: lbfgs failed to converge (status=1):\n",
            "STOP: TOTAL NO. of ITERATIONS REACHED LIMIT.\n",
            "\n",
            "Increase the number of iterations (max_iter) or scale the data as shown in:\n",
            "    https://scikit-learn.org/stable/modules/preprocessing.html\n",
            "Please also refer to the documentation for alternative solver options:\n",
            "    https://scikit-learn.org/stable/modules/linear_model.html#logistic-regression\n",
            "  n_iter_i = _check_optimize_result(\n"
          ]
        },
        {
          "output_type": "stream",
          "name": "stdout",
          "text": [
            "+---------------+----------+-----------+--------+------+\n",
            "|   Algorithm   | Accuracy | Precision | Recall |  F1  |\n",
            "+---------------+----------+-----------+--------+------+\n",
            "|   Logicstic   |   1.0    |    1.0    |  1.0   | 1.0  |\n",
            "| Decision Tree |   1.0    |    1.0    |  1.0   | 1.0  |\n",
            "|      kNN      |   0.99   |    0.99   |  0.99  | 0.99 |\n",
            "|     Linear    |   1.0    |    1.0    |  1.0   | 1.0  |\n",
            "|      Poly     |   1.0    |    1.0    |  1.0   | 1.0  |\n",
            "|    Sigmoid    |   0.9    |    0.9    |  0.9   | 0.9  |\n",
            "|      RBF      |   1.0    |    1.0    |  1.0   | 1.0  |\n",
            "+---------------+----------+-----------+--------+------+\n"
          ]
        }
      ]
    },
    {
      "cell_type": "markdown",
      "source": [
        "#Task 4. \n",
        "Compare the performance of selected classification algorithms (Decision Tree, kNN, Logistic Regression) and SVM (using different kernels) with **credit card dataset** based on accuracy, precision, recall, f1 measures.\n",
        "\n",
        "*   Give some comments on the obtained results\n",
        "*   Identify issues with dataset, and propose the solutions to these issues\n",
        "\n"
      ],
      "metadata": {
        "id": "Z5pp7_h-aP2u"
      }
    },
    {
      "cell_type": "code",
      "source": [
        "credit_cards = pd.read_csv(\"creditcard.csv\")\n",
        "y = credit_cards['Class']\n",
        "x = credit_cards.iloc[:, :30]\n",
        "model = svm.SVC(kernel ='linear')\n",
        "\n",
        "model.fit(x, y)\n",
        "y_pred = model.predict(x)\n",
        "\n",
        "poly = svm.SVC(kernel='poly', degree=5)\n",
        "poly.fit(x, y)\n",
        "\n",
        "sigmoid = svm.SVC(kernel='sigmoid')\n",
        "sigmoid.fit(x, y)\n",
        "\n",
        "rbf = svm.SVC(kernel='rbf')\n",
        "rbf.fit(x, y)\n",
        "\n",
        "poly_pred =poly.predict(x)\n",
        "sigmoid_pred = sigmoid.predict(x)\n",
        "rbf_pred = rbf.predict(x)\n",
        "\n",
        "lr = LogisticRegression(random_state = 0)\n",
        "lr.fit(x, y)\n",
        "lr_pred = lr.predict(x)\n",
        "\n",
        "tree = DecisionTreeClassifier()\n",
        "tree.fit(x, y)\n",
        "tree_pred = tree.predict(x)\n",
        "\n",
        "\n",
        "kNN = KNeighborsClassifier(n_neighbors=5)\n",
        "kNN.fit(x, y)\n",
        "kNN_pred = kNN.predict(x)\n",
        "\n",
        "table = PrettyTable([\"Algorithm\",\"Accuracy\",\"Precision\", \"Recall\", \"F1\"])\n",
        "table.add_row([\"Logicstic\", round(accuracy_score(y, lr_pred), 2), \n",
        "           round(precision_score(y, lr_pred, average='micro'), 2), \n",
        "           round(recall_score(y, lr_pred, average='macro'), 2),\n",
        "           round(f1_score(y, lr_pred,average='macro'), 2)])\n",
        "table.add_row([\"Decision Tree\", round(accuracy_score(y, tree_pred), 2), \n",
        "           round(precision_score(y, tree_pred, average='micro'), 2), \n",
        "           round(recall_score(y, tree_pred, average='macro'), 2),\n",
        "           round(f1_score(y, tree_pred,average='macro'), 2)])\n",
        "table.add_row([\"kNN\", round(accuracy_score(y, kNN_pred), 2), \n",
        "           round(precision_score(y, kNN_pred, average='micro'), 2), \n",
        "           round(recall_score(y, kNN_pred, average='macro'), 2),\n",
        "           round(f1_score(y, kNN_pred,average='macro'), 2)])\n",
        "table.add_row([\"Linear\", round(accuracy_score(y, y_pred), 2), \n",
        "           round(precision_score(y, y_pred, average='micro'), 2), \n",
        "           round(recall_score(y, y_pred, average='macro'), 2),\n",
        "           round(f1_score(y, y_pred,average='macro'), 2)])\n",
        "table.add_row([\"Poly\", round(accuracy_score(y, poly_pred), 2), \n",
        "           round(precision_score(y, poly_pred, average='micro'), 2), \n",
        "           round(recall_score(y, poly_pred, average='macro'), 2),\n",
        "           round(f1_score(y, poly_pred,average='macro'), 2)])\n",
        "table.add_row([\"Sigmoid\", round(accuracy_score(y, sigmoid_pred), 2), \n",
        "           round(precision_score(y, sigmoid_pred, average='micro'), 2), \n",
        "           round(recall_score(y, sigmoid_pred, average='macro'), 2),\n",
        "           round(f1_score(y, sigmoid_pred,average='macro'), 2)])\n",
        "table.add_row([\"RBF\", round(accuracy_score(y, rbf_pred), 2), \n",
        "           round(precision_score(y, rbf_pred, average='micro'), 2), \n",
        "           round(recall_score(y, rbf_pred, average='macro'), 2),\n",
        "           round(f1_score(y, rbf_pred,average='macro'), 2)])\n",
        "print(table)"
      ],
      "metadata": {
        "id": "Rw_-8FIf2KxW",
        "colab": {
          "base_uri": "https://localhost:8080/"
        },
        "outputId": "90cac63a-ff30-41a2-f303-17403b34e994"
      },
      "execution_count": 3,
      "outputs": [
        {
          "output_type": "stream",
          "name": "stderr",
          "text": [
            "/usr/local/lib/python3.9/dist-packages/sklearn/linear_model/_logistic.py:458: ConvergenceWarning: lbfgs failed to converge (status=1):\n",
            "STOP: TOTAL NO. of ITERATIONS REACHED LIMIT.\n",
            "\n",
            "Increase the number of iterations (max_iter) or scale the data as shown in:\n",
            "    https://scikit-learn.org/stable/modules/preprocessing.html\n",
            "Please also refer to the documentation for alternative solver options:\n",
            "    https://scikit-learn.org/stable/modules/linear_model.html#logistic-regression\n",
            "  n_iter_i = _check_optimize_result(\n"
          ]
        },
        {
          "output_type": "stream",
          "name": "stdout",
          "text": [
            "+---------------+----------+-----------+--------+------+\n",
            "|   Algorithm   | Accuracy | Precision | Recall |  F1  |\n",
            "+---------------+----------+-----------+--------+------+\n",
            "|   Logicstic   |   1.0    |    1.0    |  0.85  | 0.84 |\n",
            "| Decision Tree |   1.0    |    1.0    |  1.0   | 1.0  |\n",
            "|      kNN      |   1.0    |    1.0    |  0.56  | 0.6  |\n",
            "|     Linear    |   1.0    |    1.0    |  0.67  | 0.73 |\n",
            "|      Poly     |   1.0    |    1.0    |  0.5   | 0.5  |\n",
            "|    Sigmoid    |   1.0    |    1.0    |  0.5   | 0.5  |\n",
            "|      RBF      |   1.0    |    1.0    |  0.5   | 0.5  |\n",
            "+---------------+----------+-----------+--------+------+\n"
          ]
        }
      ]
    },
    {
      "cell_type": "markdown",
      "source": [
        "#Finally,\n",
        "Save a copy in your Github. Remember renaming the notebook."
      ],
      "metadata": {
        "id": "Ok7RGkea_b7n"
      }
    }
  ]
}