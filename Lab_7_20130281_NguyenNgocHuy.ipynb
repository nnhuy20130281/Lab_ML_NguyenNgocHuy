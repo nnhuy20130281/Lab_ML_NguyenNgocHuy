{
  "nbformat": 4,
  "nbformat_minor": 0,
  "metadata": {
    "colab": {
      "provenance": [],
      "include_colab_link": true
    },
    "kernelspec": {
      "name": "python3",
      "display_name": "Python 3"
    },
    "language_info": {
      "name": "python"
    }
  },
  "cells": [
    {
      "cell_type": "markdown",
      "metadata": {
        "id": "view-in-github",
        "colab_type": "text"
      },
      "source": [
        "<a href=\"https://colab.research.google.com/github/nnhuy20130281/Lab_ML_NguyenNgocHuy/blob/main/Lab_7_20130281_NguyenNgocHuy.ipynb\" target=\"_parent\"><img src=\"https://colab.research.google.com/assets/colab-badge.svg\" alt=\"Open In Colab\"/></a>"
      ]
    },
    {
      "cell_type": "markdown",
      "source": [
        "# This lab deals with **cross validation** for some classification algorithms and **clustering methods**. \n",
        "\n",
        "*   **Deadline: 23:59, 10/4/2023**\n",
        "\n"
      ],
      "metadata": {
        "id": "LMzehe0sy5wr"
      }
    },
    {
      "cell_type": "markdown",
      "source": [
        "# Import libraries"
      ],
      "metadata": {
        "id": "H4nJmxp9zGX4"
      }
    },
    {
      "cell_type": "code",
      "execution_count": 4,
      "metadata": {
        "id": "DoVWQ8AEyc-C",
        "colab": {
          "base_uri": "https://localhost:8080/"
        },
        "outputId": "7a930629-0569-40fa-e439-e5cdb0c9943c"
      },
      "outputs": [
        {
          "output_type": "stream",
          "name": "stdout",
          "text": [
            "Mounted at /content/gdrive\n",
            "/content/gdrive/MyDrive/Colab Notebooks\n"
          ]
        }
      ],
      "source": [
        "import pandas as pd\n",
        "import numpy as np\n",
        "import matplotlib.pyplot as plt\n",
        "from sklearn import datasets\n",
        "from sklearn import svm\n",
        "from sklearn.ensemble import RandomForestClassifier\n",
        "from sklearn.ensemble import ExtraTreesClassifier\n",
        "from sklearn.metrics import accuracy_score \n",
        "from sklearn.metrics import recall_score\n",
        "from sklearn.metrics import f1_score\n",
        "from sklearn.metrics import precision_score\n",
        "from sklearn.metrics import classification_report, confusion_matrix\n",
        "from sklearn.model_selection import cross_validate\n",
        "from sklearn.model_selection import KFold\n",
        "from sklearn.model_selection import cross_val_score\n",
        "from sklearn.tree import DecisionTreeClassifier\n",
        "from sklearn.linear_model import LogisticRegression\n",
        "from sklearn.neighbors import KNeighborsClassifier\n",
        "from sklearn.naive_bayes import CategoricalNB, BernoulliNB, ComplementNB, GaussianNB, MultinomialNB\n",
        "from sklearn.model_selection import train_test_split\n",
        "from sklearn.feature_selection import SelectKBest, chi2, RFE\n",
        "from sklearn.decomposition import PCA\n",
        "from sklearn.feature_selection  import SelectFromModel\n",
        "from sklearn.cluster import AgglomerativeClustering\n",
        "from matplotlib import pyplot as plt\n",
        "from scipy.cluster.hierarchy import dendrogram, linkage\n",
        "import scipy.cluster.hierarchy as shc\n",
        "from sklearn.cluster import AgglomerativeClustering\n",
        "from prettytable import PrettyTable\n",
        "from scipy.stats import mode\n",
        "from google.colab import drive\n",
        "drive.mount('/content/gdrive')\n",
        "%cd '/content/gdrive/MyDrive/Colab Notebooks'\n"
      ]
    },
    {
      "cell_type": "markdown",
      "source": [
        "#Task 1. With **iris** dataset\n",
        "*  1.1. Apply **SVM** algorithm with cross validation\n"
      ],
      "metadata": {
        "id": "x_dG9SA5OhGT"
      }
    },
    {
      "cell_type": "code",
      "source": [
        "dataset = datasets.load_iris()\n",
        "x = dataset.data\n",
        "y = dataset.target\n",
        "x_train, x_test, y_train, y_test = train_test_split(x, y, test_size=0.3)\n",
        "\n",
        "clf = svm.SVC(kernel='sigmoid', random_state=0)\n",
        "accuracy = cross_validate(clf, x_train, y_train, scoring='accuracy', cv=10)\n",
        "precision_macro = cross_validate(clf, x_train, y_train, scoring='precision_macro', cv=10)\n",
        "recall = cross_validate(clf, x_train, y_train, scoring='recall_macro', cv=10)\n",
        "f1_macro = cross_validate(clf, x_train, y_train, scoring='f1_macro', cv=10)\n",
        "print(np.mean(accuracy['test_score']))\n",
        "print(np.mean(precision_macro['test_score']))\n",
        "print(np.mean(recall['test_score']))\n",
        "print(np.mean(f1_macro['test_score']))"
      ],
      "metadata": {
        "id": "62jExOZ952fF",
        "colab": {
          "base_uri": "https://localhost:8080/"
        },
        "outputId": "9a253bd4-3212-4b68-f156-0e8b4b1e572d"
      },
      "execution_count": 10,
      "outputs": [
        {
          "output_type": "stream",
          "name": "stdout",
          "text": [
            "0.3318181818181818\n",
            "0.11727272727272728\n",
            "0.325\n",
            "0.1704273504273504\n"
          ]
        },
        {
          "output_type": "stream",
          "name": "stderr",
          "text": [
            "/usr/local/lib/python3.9/dist-packages/sklearn/metrics/_classification.py:1344: UndefinedMetricWarning: Precision is ill-defined and being set to 0.0 in labels with no predicted samples. Use `zero_division` parameter to control this behavior.\n",
            "  _warn_prf(average, modifier, msg_start, len(result))\n",
            "/usr/local/lib/python3.9/dist-packages/sklearn/metrics/_classification.py:1344: UndefinedMetricWarning: Precision is ill-defined and being set to 0.0 in labels with no predicted samples. Use `zero_division` parameter to control this behavior.\n",
            "  _warn_prf(average, modifier, msg_start, len(result))\n",
            "/usr/local/lib/python3.9/dist-packages/sklearn/metrics/_classification.py:1344: UndefinedMetricWarning: Precision is ill-defined and being set to 0.0 in labels with no predicted samples. Use `zero_division` parameter to control this behavior.\n",
            "  _warn_prf(average, modifier, msg_start, len(result))\n",
            "/usr/local/lib/python3.9/dist-packages/sklearn/metrics/_classification.py:1344: UndefinedMetricWarning: Precision is ill-defined and being set to 0.0 in labels with no predicted samples. Use `zero_division` parameter to control this behavior.\n",
            "  _warn_prf(average, modifier, msg_start, len(result))\n",
            "/usr/local/lib/python3.9/dist-packages/sklearn/metrics/_classification.py:1344: UndefinedMetricWarning: Precision is ill-defined and being set to 0.0 in labels with no predicted samples. Use `zero_division` parameter to control this behavior.\n",
            "  _warn_prf(average, modifier, msg_start, len(result))\n",
            "/usr/local/lib/python3.9/dist-packages/sklearn/metrics/_classification.py:1344: UndefinedMetricWarning: Precision is ill-defined and being set to 0.0 in labels with no predicted samples. Use `zero_division` parameter to control this behavior.\n",
            "  _warn_prf(average, modifier, msg_start, len(result))\n",
            "/usr/local/lib/python3.9/dist-packages/sklearn/metrics/_classification.py:1344: UndefinedMetricWarning: Precision is ill-defined and being set to 0.0 in labels with no predicted samples. Use `zero_division` parameter to control this behavior.\n",
            "  _warn_prf(average, modifier, msg_start, len(result))\n",
            "/usr/local/lib/python3.9/dist-packages/sklearn/metrics/_classification.py:1344: UndefinedMetricWarning: Precision is ill-defined and being set to 0.0 in labels with no predicted samples. Use `zero_division` parameter to control this behavior.\n",
            "  _warn_prf(average, modifier, msg_start, len(result))\n",
            "/usr/local/lib/python3.9/dist-packages/sklearn/metrics/_classification.py:1344: UndefinedMetricWarning: Precision is ill-defined and being set to 0.0 in labels with no predicted samples. Use `zero_division` parameter to control this behavior.\n",
            "  _warn_prf(average, modifier, msg_start, len(result))\n",
            "/usr/local/lib/python3.9/dist-packages/sklearn/metrics/_classification.py:1344: UndefinedMetricWarning: Precision is ill-defined and being set to 0.0 in labels with no predicted samples. Use `zero_division` parameter to control this behavior.\n",
            "  _warn_prf(average, modifier, msg_start, len(result))\n"
          ]
        }
      ]
    },
    {
      "cell_type": "markdown",
      "source": [
        "*  1.2 Apply **feature selection** to the dataset and then use **RandomForest** algorithm with cross validation "
      ],
      "metadata": {
        "id": "2g--8cng53sY"
      }
    },
    {
      "cell_type": "code",
      "source": [
        "rf = RandomForestClassifier(n_estimators=100)\n",
        "rf.fit(x_train, y_train)\n",
        "rf_pred = rf.predict(x_test)\n",
        "\n",
        "importances = rf.feature_importances_\n",
        "importances_sort = np.argsort(importances)[::-1]\n",
        "\n",
        "select = SelectFromModel(rf, threshold=0.011)\n",
        "x_train = select.fit_transform(x_train, y_train)\n",
        "x_test = select.transform(x_test)\n",
        "\n",
        "rf.fit(x_train, y_train)\n",
        "rf_pred = rf.predict(x_test)\n",
        "\n",
        "cv = KFold(n_splits=10, random_state=1, shuffle=True)\n",
        "\n",
        "accuracy = cross_validate(rf, x_train, y_train, scoring='accuracy', cv=cv)\n",
        "precision_macro = cross_validate(rf, x_train, y_train, scoring='precision_macro', cv=cv)\n",
        "recall = cross_validate(rf, x_train, y_train, scoring='recall_macro', cv=cv)\n",
        "f1_macro = cross_validate(rf, x_train, y_train, scoring='f1_macro', cv=cv)\n",
        "\n",
        "print(np.mean(accuracy['test_score']))\n",
        "print(np.mean(precision_macro['test_score']))\n",
        "print(np.mean(recall['test_score']))\n",
        "print(np.mean(f1_macro['test_score']))"
      ],
      "metadata": {
        "id": "fX0_kItYPism",
        "colab": {
          "base_uri": "https://localhost:8080/"
        },
        "outputId": "dea9cd87-a394-40c0-ec5f-5bf084b224be"
      },
      "execution_count": 11,
      "outputs": [
        {
          "output_type": "stream",
          "name": "stdout",
          "text": [
            "0.9527272727272728\n",
            "0.9674603174603174\n",
            "0.9572222222222223\n",
            "0.9520105820105821\n"
          ]
        }
      ]
    },
    {
      "cell_type": "markdown",
      "source": [
        "#Task 2. With mnist dataset: \n",
        "*   2.1. Apply **K-Means** algorithm using k=10, "
      ],
      "metadata": {
        "id": "kNv07ARGzOUm"
      }
    },
    {
      "cell_type": "code",
      "source": [
        "dataset = datasets.load_digits()\n",
        "x_train, x_test, y_train, y_test = train_test_split(dataset.data, dataset.target, test_size=0.5)\n",
        "     \n",
        "\n",
        "from sklearn.cluster import KMeans\n",
        "model = KMeans(n_clusters=10, random_state=0)\n",
        "model.fit(x_train)\n",
        "clusters = model.predict(x_test)\n",
        "model.cluster_centers_.shape\n",
        "\n",
        "from sklearn.metrics import accuracy_score\n",
        "print (accuracy_score(y_test, clusters))\n",
        "\n",
        "from sklearn.metrics.cluster import completeness_score\n",
        "print (completeness_score(y_test, clusters))"
      ],
      "metadata": {
        "id": "sOsg77IBzEyo",
        "colab": {
          "base_uri": "https://localhost:8080/"
        },
        "outputId": "c6b06c9d-6bc4-498b-8ebd-fe91dab17c0d"
      },
      "execution_count": 12,
      "outputs": [
        {
          "output_type": "stream",
          "name": "stderr",
          "text": [
            "/usr/local/lib/python3.9/dist-packages/sklearn/cluster/_kmeans.py:870: FutureWarning: The default value of `n_init` will change from 10 to 'auto' in 1.4. Set the value of `n_init` explicitly to suppress the warning\n",
            "  warnings.warn(\n"
          ]
        },
        {
          "output_type": "stream",
          "name": "stdout",
          "text": [
            "0.10011123470522804\n",
            "0.7763188978364621\n"
          ]
        }
      ]
    },
    {
      "cell_type": "markdown",
      "source": [
        "*   2.2. Compare the obtained result with with other classification algorithms such as **Randomforest**, **kNN**, and **Naïve Bayes** in terms of accuracy, precision, recall, f1 using cross validation. \n"
      ],
      "metadata": {
        "id": "pnoVB8J4vV36"
      }
    },
    {
      "cell_type": "code",
      "source": [
        "\n",
        "labels = np.zeros_like(clusters)\n",
        "for i in range(3):\n",
        " mask = (clusters == i)\n",
        " labels[mask] = mode(y_test[mask])[0]\n",
        "\n",
        "rf = RandomForestClassifier(n_estimators=100)\n",
        "rf.fit(x_train, y_train)\n",
        "rf_pred = rf.predict(x_test)\n",
        "\n",
        "gauss = GaussianNB()\n",
        "gauss.fit(x_train, y_train)\n",
        "gauss_pred = gauss.predict(x_test)\n",
        "\n",
        "kNN = KNeighborsClassifier(n_neighbors=5)\n",
        "kNN.fit(x_train, y_train)\n",
        "kNN_pred = kNN.predict(x_test)\n",
        "\n",
        "t = PrettyTable([\"Algorithm\",\"Accuracy\",\"Precision\", \"Recall\", \"F1\"])\n",
        "t.add_row([\"K-Means\", round(accuracy_score(y_test, labels), 2), \n",
        "           round(precision_score(y_test, labels, average='micro'), 2), \n",
        "           round(recall_score(y_test, labels, average='macro'), 2),\n",
        "           round(f1_score(y_test, labels,average='macro'), 2)])\n",
        "t.add_row([\"Random forest\", round(accuracy_score(y_test, rf_pred), 2), \n",
        "           round(precision_score(y_test, rf_pred, average='micro'), 2), \n",
        "           round(recall_score(y_test, rf_pred, average='macro'), 2),\n",
        "           round(f1_score(y_test, rf_pred,average='macro'), 2)])\n",
        "t.add_row([\"Naive Bayes\", round(accuracy_score(y_test, gauss_pred), 2), \n",
        "           round(precision_score(y_test, gauss_pred, average='micro'), 2), \n",
        "           round(recall_score(y_test, gauss_pred, average='macro'), 2),\n",
        "           round(f1_score(y_test, gauss_pred,average='macro'), 2)])\n",
        "t.add_row([\"kNN\", round(accuracy_score(y_test, kNN_pred), 2), \n",
        "           round(precision_score(y_test, kNN_pred, average='micro'), 2), \n",
        "           round(recall_score(y_test, kNN_pred, average='macro'), 2),\n",
        "           round(f1_score(y_test, kNN_pred,average='macro'), 2)])\n",
        "print(t)"
      ],
      "metadata": {
        "id": "-ZTSvsJdvYqI",
        "colab": {
          "base_uri": "https://localhost:8080/"
        },
        "outputId": "d23648f7-6d20-41a5-a99b-aceffbae08ec"
      },
      "execution_count": 13,
      "outputs": [
        {
          "output_type": "stream",
          "name": "stderr",
          "text": [
            "<ipython-input-13-049832f112b9>:4: FutureWarning: Unlike other reduction functions (e.g. `skew`, `kurtosis`), the default behavior of `mode` typically preserves the axis it acts along. In SciPy 1.11.0, this behavior will change: the default value of `keepdims` will become False, the `axis` over which the statistic is taken will be eliminated, and the value None will no longer be accepted. Set `keepdims` to True or False to avoid this warning.\n",
            "  labels[mask] = mode(y_test[mask])[0]\n"
          ]
        },
        {
          "output_type": "stream",
          "name": "stdout",
          "text": [
            "+---------------+----------+-----------+--------+------+\n",
            "|   Algorithm   | Accuracy | Precision | Recall |  F1  |\n",
            "+---------------+----------+-----------+--------+------+\n",
            "|    K-Means    |   0.27   |    0.27   |  0.27  | 0.2  |\n",
            "| Random forest |   0.97   |    0.97   |  0.97  | 0.97 |\n",
            "|  Naive Bayes  |   0.78   |    0.78   |  0.78  | 0.79 |\n",
            "|      kNN      |   0.98   |    0.98   |  0.98  | 0.98 |\n",
            "+---------------+----------+-----------+--------+------+\n"
          ]
        }
      ]
    },
    {
      "cell_type": "markdown",
      "source": [
        "*   2.3. From the obtained results, **which approach is better** for this problem: Supervised learning or Unsupervised learning?"
      ],
      "metadata": {
        "id": "uyey-ndXvZlb"
      }
    },
    {
      "cell_type": "code",
      "source": [
        "#Supervised learning có giám sát tốt hơn Unsupervised learning"
      ],
      "metadata": {
        "id": "Qzh_D-rgvbv9"
      },
      "execution_count": null,
      "outputs": []
    },
    {
      "cell_type": "markdown",
      "source": [
        "2.4. Apply **AgglomerativeClustering** algorithm to mnist dataset using the number of clusters is 10"
      ],
      "metadata": {
        "id": "ol1U_T_NvcqV"
      }
    },
    {
      "cell_type": "code",
      "source": [
        "from sklearn.cluster import AgglomerativeClustering\n",
        "cluster = AgglomerativeClustering(n_clusters=10, affinity='euclidean', linkage='ward')\n",
        "cluster.fit_predict(x_train)\n",
        "# get clustering labels\n",
        "print(cluster.labels_)"
      ],
      "metadata": {
        "colab": {
          "base_uri": "https://localhost:8080/"
        },
        "id": "ztUtCPYg7mIY",
        "outputId": "ba53123a-e2cb-405f-f628-a7c2afe47282"
      },
      "execution_count": 14,
      "outputs": [
        {
          "output_type": "stream",
          "name": "stdout",
          "text": [
            "[3 0 0 9 0 9 4 2 5 8 6 4 1 2 0 9 3 8 3 7 5 8 3 7 4 0 1 4 7 2 0 2 3 0 2 7 8\n",
            " 4 2 2 4 4 7 9 4 4 0 2 7 3 6 3 6 9 3 5 9 9 2 5 3 3 8 3 7 4 4 2 5 2 5 4 0 5\n",
            " 7 7 0 8 4 1 1 5 9 6 8 0 6 6 7 7 0 7 6 2 2 3 4 2 8 6 2 7 5 8 2 6 3 0 2 6 7\n",
            " 5 6 3 7 7 0 8 2 6 1 4 4 8 0 0 0 9 5 7 0 2 4 0 2 2 3 9 6 0 6 0 4 2 5 2 3 0\n",
            " 0 3 8 6 2 2 2 9 6 0 7 3 1 3 2 8 6 4 4 7 9 3 6 3 2 2 5 5 1 1 4 0 3 1 7 5 0\n",
            " 8 7 7 4 3 6 3 7 7 9 0 0 3 4 3 2 0 5 2 2 3 0 2 6 0 6 4 0 3 7 8 3 2 7 1 4 4\n",
            " 9 0 1 0 6 9 3 7 4 5 4 0 2 2 7 6 0 0 9 5 2 0 0 1 1 0 2 4 4 6 2 3 6 9 4 9 7\n",
            " 4 2 5 4 6 1 9 5 9 2 9 7 4 6 9 0 7 3 3 0 6 7 5 7 4 2 4 5 3 0 9 8 9 3 2 2 1\n",
            " 5 7 2 5 6 6 8 3 4 5 2 7 1 9 2 2 1 5 7 1 1 4 7 6 8 8 7 5 3 8 9 9 3 3 0 3 8\n",
            " 6 1 6 7 6 2 8 9 2 8 3 4 2 9 2 2 2 3 4 7 2 4 3 4 9 2 8 2 6 1 2 9 6 2 7 2 9\n",
            " 9 3 5 8 0 6 7 8 6 6 6 5 6 1 0 4 3 0 3 2 2 6 3 5 6 8 3 7 4 7 7 1 4 1 0 2 6\n",
            " 5 3 8 3 4 9 0 3 7 9 0 9 8 2 2 1 0 5 0 9 7 6 5 2 4 4 7 1 8 2 2 1 5 3 7 8 5\n",
            " 9 6 5 0 8 9 1 2 2 7 0 9 2 4 6 2 7 6 5 2 6 2 8 9 1 6 2 7 0 7 9 8 8 6 7 6 6\n",
            " 2 9 7 2 8 6 4 8 0 4 7 2 2 9 6 4 8 0 4 8 0 9 3 5 0 3 0 2 4 0 9 2 0 3 7 4 7\n",
            " 6 5 2 3 2 4 2 2 2 2 7 0 3 2 1 6 1 6 4 0 0 7 5 7 9 5 1 2 2 1 1 0 2 6 9 2 3\n",
            " 0 9 7 9 9 4 1 9 4 9 2 0 0 9 1 9 8 7 8 6 5 0 3 2 7 1 4 4 6 6 7 3 7 9 4 7 6\n",
            " 2 0 1 8 5 6 8 7 8 7 2 5 3 6 7 7 9 6 4 5 3 1 3 0 5 2 2 2 1 7 2 5 7 3 4 4 9\n",
            " 3 6 8 5 5 9 7 1 2 5 2 0 2 7 2 4 4 7 7 2 5 4 4 1 9 3 9 4 1 0 9 2 6 3 8 7 0\n",
            " 5 9 3 0 2 1 6 3 5 8 9 0 5 5 3 7 2 5 2 1 0 2 9 7 3 2 4 5 2 2 6 0 5 9 1 0 2\n",
            " 9 1 9 5 2 6 7 2 0 3 2 5 5 7 2 3 4 3 1 8 7 6 5 1 2 8 6 9 7 6 9 1 6 6 8 6 8\n",
            " 3 4 3 4 1 0 4 3 0 2 6 2 1 3 7 1 5 0 7 2 8 1 2 0 0 3 8 5 1 2 2 2 3 9 3 9 6\n",
            " 2 0 6 1 5 3 0 6 8 7 4 1 2 9 5 6 2 8 7 9 2 8 1 9 8 0 4 4 0 1 8 3 5 1 6 6 6\n",
            " 8 4 7 2 3 5 3 2 5 4 5 4 3 7 7 1 0 0 8 6 7 3 0 5 7 0 3 5 9 6 4 2 8 6 5 9 2\n",
            " 6 2 0 4 2 5 2 6 3 4 8 2 8 6 2 6 6 4 1 2 0 6 7 3 9 3 4 9 2 1 2 1 7 0 5 9 0\n",
            " 5 0 2 0 0 8 2 5 0 5]\n"
          ]
        },
        {
          "output_type": "stream",
          "name": "stderr",
          "text": [
            "/usr/local/lib/python3.9/dist-packages/sklearn/cluster/_agglomerative.py:983: FutureWarning: Attribute `affinity` was deprecated in version 1.2 and will be removed in 1.4. Use `metric` instead\n",
            "  warnings.warn(\n"
          ]
        }
      ]
    },
    {
      "cell_type": "markdown",
      "source": [
        "#Task 3. \n",
        "For given dataset (shopping-data.csv) including 5 attributes: **CustomerID**, **Genre**, **Age**, **Annual Income**, and **Spending Score**.\n",
        "*   3.1. Using the **scipy library** to create the dendrograms for the given dataset (remember drop categorical attributes: **CustomerID**, **Genre**)\n",
        "\n",
        "\n",
        "\n"
      ],
      "metadata": {
        "id": "b52OPWPD2afi"
      }
    },
    {
      "cell_type": "code",
      "source": [
        "dataset = pd.read_csv('shopping-data.csv')\n",
        "dataset = dataset.drop(['CustomerID', 'Genre'], axis=1)\n",
        "plt.figure(figsize=(10, 7))\n",
        "plt.title(\"Customer Dendograms\")\n",
        "dend = shc.dendrogram(shc.linkage(dataset.iloc[:, 0:], method='ward'))"
      ],
      "metadata": {
        "id": "YYY2dLtH3P8H",
        "colab": {
          "base_uri": "https://localhost:8080/",
          "height": 621
        },
        "outputId": "ddafa452-6ca1-4413-f5fd-c756d9d48cf4"
      },
      "execution_count": 15,
      "outputs": [
        {
          "output_type": "display_data",
          "data": {
            "text/plain": [
              "<Figure size 1000x700 with 1 Axes>"
            ],
            "image/png": "[encoded data removed]"
          },
          "metadata": {}
        }
      ]
    },
    {
      "cell_type": "markdown",
      "source": [
        "*   3.2. Apply K-Means to the preprocessed dataset with k belongs to [2,10]. Then compute SSE values and plot them to find the best value of k."
      ],
      "metadata": {
        "id": "eHlh_dWUyEMr"
      }
    },
    {
      "cell_type": "code",
      "source": [
        "sse = []\n",
        "for k in range(2, 11):\n",
        " kmeans = KMeans(n_clusters=k, random_state = 0)\n",
        " kmeans.fit(dataset.iloc[:, 0:])\n",
        " sse.append(kmeans.inertia_)\n",
        "\n",
        "plt.plot(range(2,11), sse)\n",
        "plt.xlabel('K-value')\n",
        "plt.ylabel('SSE')"
      ],
      "metadata": {
        "id": "8vx3mfIidu4P",
        "colab": {
          "base_uri": "https://localhost:8080/",
          "height": 799
        },
        "outputId": "9e2495ac-9232-4751-c21b-54ed131b955f"
      },
      "execution_count": 16,
      "outputs": [
        {
          "output_type": "stream",
          "name": "stderr",
          "text": [
            "/usr/local/lib/python3.9/dist-packages/sklearn/cluster/_kmeans.py:870: FutureWarning: The default value of `n_init` will change from 10 to 'auto' in 1.4. Set the value of `n_init` explicitly to suppress the warning\n",
            "  warnings.warn(\n",
            "/usr/local/lib/python3.9/dist-packages/sklearn/cluster/_kmeans.py:870: FutureWarning: The default value of `n_init` will change from 10 to 'auto' in 1.4. Set the value of `n_init` explicitly to suppress the warning\n",
            "  warnings.warn(\n",
            "/usr/local/lib/python3.9/dist-packages/sklearn/cluster/_kmeans.py:870: FutureWarning: The default value of `n_init` will change from 10 to 'auto' in 1.4. Set the value of `n_init` explicitly to suppress the warning\n",
            "  warnings.warn(\n",
            "/usr/local/lib/python3.9/dist-packages/sklearn/cluster/_kmeans.py:870: FutureWarning: The default value of `n_init` will change from 10 to 'auto' in 1.4. Set the value of `n_init` explicitly to suppress the warning\n",
            "  warnings.warn(\n",
            "/usr/local/lib/python3.9/dist-packages/sklearn/cluster/_kmeans.py:870: FutureWarning: The default value of `n_init` will change from 10 to 'auto' in 1.4. Set the value of `n_init` explicitly to suppress the warning\n",
            "  warnings.warn(\n",
            "/usr/local/lib/python3.9/dist-packages/sklearn/cluster/_kmeans.py:870: FutureWarning: The default value of `n_init` will change from 10 to 'auto' in 1.4. Set the value of `n_init` explicitly to suppress the warning\n",
            "  warnings.warn(\n",
            "/usr/local/lib/python3.9/dist-packages/sklearn/cluster/_kmeans.py:870: FutureWarning: The default value of `n_init` will change from 10 to 'auto' in 1.4. Set the value of `n_init` explicitly to suppress the warning\n",
            "  warnings.warn(\n",
            "/usr/local/lib/python3.9/dist-packages/sklearn/cluster/_kmeans.py:870: FutureWarning: The default value of `n_init` will change from 10 to 'auto' in 1.4. Set the value of `n_init` explicitly to suppress the warning\n",
            "  warnings.warn(\n",
            "/usr/local/lib/python3.9/dist-packages/sklearn/cluster/_kmeans.py:870: FutureWarning: The default value of `n_init` will change from 10 to 'auto' in 1.4. Set the value of `n_init` explicitly to suppress the warning\n",
            "  warnings.warn(\n"
          ]
        },
        {
          "output_type": "execute_result",
          "data": {
            "text/plain": [
              "Text(0, 0.5, 'SSE')"
            ]
          },
          "metadata": {},
          "execution_count": 16
        },
        {
          "output_type": "display_data",
          "data": {
            "text/plain": [
              "<Figure size 640x480 with 1 Axes>"
            ],
            "image/png": "[encoded data removed]"
          },
          "metadata": {}
        }
      ]
    },
    {
      "cell_type": "markdown",
      "source": [
        "*   3.2. From the obtained dengrograms, choose an appropriate number of clusters and apply **AgglomerativeClustering** algorithm to the given dataset"
      ],
      "metadata": {
        "id": "RJpsTIiyv-1h"
      }
    },
    {
      "cell_type": "code",
      "source": [
        "cluster = AgglomerativeClustering(n_clusters=8, affinity='euclidean', linkage='ward')\n",
        "cluster.fit_predict(dataset.iloc[:, 0:])\n",
        "\n",
        "cluster.labels_"
      ],
      "metadata": {
        "id": "5ZE7A0Au1Pg0",
        "colab": {
          "base_uri": "https://localhost:8080/"
        },
        "outputId": "5ce7c358-c9d3-4f46-8aba-0136fb586800"
      },
      "execution_count": 17,
      "outputs": [
        {
          "output_type": "stream",
          "name": "stderr",
          "text": [
            "/usr/local/lib/python3.9/dist-packages/sklearn/cluster/_agglomerative.py:983: FutureWarning: Attribute `affinity` was deprecated in version 1.2 and will be removed in 1.4. Use `metric` instead\n",
            "  warnings.warn(\n"
          ]
        },
        {
          "output_type": "execute_result",
          "data": {
            "text/plain": [
              "array([1, 7, 1, 7, 1, 7, 1, 7, 1, 7, 1, 7, 1, 7, 1, 7, 1, 7, 1, 7, 1, 7,\n",
              "       1, 7, 1, 7, 1, 2, 1, 7, 1, 7, 1, 7, 1, 7, 1, 7, 1, 7, 1, 7, 1, 2,\n",
              "       1, 2, 0, 2, 2, 2, 0, 2, 2, 0, 0, 0, 0, 0, 2, 0, 0, 2, 0, 0, 0, 2,\n",
              "       0, 0, 2, 2, 0, 0, 0, 0, 0, 2, 0, 0, 2, 0, 0, 0, 0, 0, 2, 0, 0, 2,\n",
              "       0, 0, 0, 2, 0, 0, 0, 2, 0, 2, 0, 2, 2, 0, 0, 2, 0, 2, 0, 0, 0, 0,\n",
              "       0, 2, 0, 2, 2, 2, 0, 0, 0, 0, 2, 0, 0, 4, 2, 4, 5, 4, 5, 4, 5, 4,\n",
              "       2, 4, 5, 4, 5, 4, 5, 4, 5, 4, 2, 4, 5, 4, 5, 4, 5, 4, 5, 4, 5, 4,\n",
              "       5, 4, 5, 4, 5, 4, 5, 4, 5, 4, 5, 4, 5, 4, 5, 4, 5, 4, 5, 4, 5, 4,\n",
              "       5, 4, 5, 3, 6, 3, 6, 3, 6, 3, 6, 4, 6, 3, 6, 4, 6, 3, 6, 3, 6, 3,\n",
              "       6, 3])"
            ]
          },
          "metadata": {},
          "execution_count": 17
        }
      ]
    },
    {
      "cell_type": "markdown",
      "source": [
        "#Finally,\n",
        "Save a copy in your Github. Remember renaming the notebook."
      ],
      "metadata": {
        "id": "Ok7RGkea_b7n"
      }
    }
  ]
}